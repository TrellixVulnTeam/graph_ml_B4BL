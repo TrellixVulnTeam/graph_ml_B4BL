{
 "cells": [
  {
   "cell_type": "code",
   "execution_count": 6,
   "id": "3acd0116",
   "metadata": {},
   "outputs": [],
   "source": [
    "import networkx as nx\n",
    "import pandas as pd\n",
    "import numpy as np"
   ]
  },
  {
   "cell_type": "markdown",
   "id": "dc44b470",
   "metadata": {},
   "source": [
    "<img src=\"images/graph_def.png\">"
   ]
  },
  {
   "cell_type": "code",
   "execution_count": 4,
   "id": "c6a95b76",
   "metadata": {},
   "outputs": [],
   "source": [
    "import networkx as nx\n",
    "G = nx.Graph()\n",
    "V = {'Dublin', 'Paris', 'Milan', 'Rome'}\n",
    "E = [('Milan', 'Dublin'), ('Milan', 'Paris'),\n",
    "    ('Paris', 'Dublin'), ('Milan', 'Rome')]\n",
    "G.add_nodes_from(V)\n",
    "G.add_edges_from(E)"
   ]
  },
  {
   "cell_type": "code",
   "execution_count": 5,
   "id": "cb528172",
   "metadata": {},
   "outputs": [
    {
     "data": {
      "text/plain": [
       "NodeView(('Dublin', 'Paris', 'Rome', 'Milan'))"
      ]
     },
     "execution_count": 5,
     "metadata": {},
     "output_type": "execute_result"
    }
   ],
   "source": [
    "# Graph Nodes\n",
    "G.nodes"
   ]
  },
  {
   "cell_type": "code",
   "execution_count": 6,
   "id": "ff643c4f",
   "metadata": {},
   "outputs": [
    {
     "data": {
      "text/plain": [
       "EdgeView([('Dublin', 'Milan'), ('Dublin', 'Paris'), ('Paris', 'Milan'), ('Rome', 'Milan')])"
      ]
     },
     "execution_count": 6,
     "metadata": {},
     "output_type": "execute_result"
    }
   ],
   "source": [
    "# Graph Edges\n",
    "G.edges"
   ]
  },
  {
   "cell_type": "code",
   "execution_count": 7,
   "id": "a2931ef1",
   "metadata": {},
   "outputs": [
    {
     "data": {
      "text/plain": [
       "4"
      ]
     },
     "execution_count": 7,
     "metadata": {},
     "output_type": "execute_result"
    }
   ],
   "source": [
    "# Graph Order\n",
    "G.number_of_nodes()"
   ]
  },
  {
   "cell_type": "code",
   "execution_count": 8,
   "id": "75a4a302",
   "metadata": {},
   "outputs": [
    {
     "data": {
      "text/plain": [
       "4"
      ]
     },
     "execution_count": 8,
     "metadata": {},
     "output_type": "execute_result"
    }
   ],
   "source": [
    "#Graph Size\n",
    "G.number_of_edges()"
   ]
  },
  {
   "cell_type": "code",
   "execution_count": 9,
   "id": "bf29c84a",
   "metadata": {},
   "outputs": [],
   "source": [
    "# Degree for each nodes\n",
    "degree_for_nodes = {v: G.degree(v) for v in G.nodes}"
   ]
  },
  {
   "cell_type": "code",
   "execution_count": 10,
   "id": "5a26093f",
   "metadata": {},
   "outputs": [
    {
     "data": {
      "text/plain": [
       "{'Dublin': 2, 'Paris': 2, 'Rome': 1, 'Milan': 3}"
      ]
     },
     "execution_count": 10,
     "metadata": {},
     "output_type": "execute_result"
    }
   ],
   "source": [
    "degree_for_nodes"
   ]
  },
  {
   "cell_type": "code",
   "execution_count": 11,
   "id": "a4c4a497",
   "metadata": {},
   "outputs": [],
   "source": [
    "# Neighbors for each node\n",
    "neighbor_for_nodes = {v: list(G.neighbors(v)) for v in G.nodes}"
   ]
  },
  {
   "cell_type": "code",
   "execution_count": 12,
   "id": "d783573e",
   "metadata": {},
   "outputs": [
    {
     "data": {
      "text/plain": [
       "{'Dublin': ['Milan', 'Paris'],\n",
       " 'Paris': ['Milan', 'Dublin'],\n",
       " 'Rome': ['Milan'],\n",
       " 'Milan': ['Dublin', 'Paris', 'Rome']}"
      ]
     },
     "execution_count": 12,
     "metadata": {},
     "output_type": "execute_result"
    }
   ],
   "source": [
    "neighbor_for_nodes"
   ]
  },
  {
   "cell_type": "code",
   "execution_count": 13,
   "id": "c79071e5",
   "metadata": {},
   "outputs": [],
   "source": [
    "# Ego graph for each specific node\n",
    "ego_graph_milan = nx.ego_graph(G, 'Milan')"
   ]
  },
  {
   "cell_type": "code",
   "execution_count": 14,
   "id": "e1568f88",
   "metadata": {},
   "outputs": [
    {
     "data": {
      "text/plain": [
       "NodeView(('Dublin', 'Paris', 'Rome', 'Milan'))"
      ]
     },
     "execution_count": 14,
     "metadata": {},
     "output_type": "execute_result"
    }
   ],
   "source": [
    "ego_graph_milan.nodes"
   ]
  },
  {
   "cell_type": "code",
   "execution_count": 15,
   "id": "1846c124",
   "metadata": {},
   "outputs": [
    {
     "data": {
      "text/plain": [
       "EdgeView([('Dublin', 'Milan'), ('Dublin', 'Paris'), ('Paris', 'Milan'), ('Rome', 'Milan')])"
      ]
     },
     "execution_count": 15,
     "metadata": {},
     "output_type": "execute_result"
    }
   ],
   "source": [
    "ego_graph_milan.edges"
   ]
  },
  {
   "cell_type": "code",
   "execution_count": 16,
   "id": "4b554011",
   "metadata": {},
   "outputs": [],
   "source": [
    "new_nodes = {'London', 'Madrid'}\n",
    "new_edges = [('London', 'Rome'), ('Madrid', 'Paris')]\n",
    "G.add_nodes_from(new_nodes)\n",
    "G.add_edges_from(new_edges)"
   ]
  },
  {
   "cell_type": "code",
   "execution_count": 17,
   "id": "e5a08521",
   "metadata": {},
   "outputs": [
    {
     "data": {
      "text/plain": [
       "NodeView(('Dublin', 'Paris', 'Rome', 'Milan', 'London', 'Madrid'))"
      ]
     },
     "execution_count": 17,
     "metadata": {},
     "output_type": "execute_result"
    }
   ],
   "source": [
    "G.nodes"
   ]
  },
  {
   "cell_type": "code",
   "execution_count": 18,
   "id": "de660917",
   "metadata": {},
   "outputs": [
    {
     "data": {
      "text/plain": [
       "EdgeView([('Dublin', 'Milan'), ('Dublin', 'Paris'), ('Paris', 'Milan'), ('Paris', 'Madrid'), ('Rome', 'Milan'), ('Rome', 'London')])"
      ]
     },
     "execution_count": 18,
     "metadata": {},
     "output_type": "execute_result"
    }
   ],
   "source": [
    "G.edges"
   ]
  },
  {
   "cell_type": "code",
   "execution_count": 19,
   "id": "94fdae90",
   "metadata": {},
   "outputs": [
    {
     "data": {
      "text/plain": [
       "{'Dublin': 2, 'Paris': 3, 'Rome': 2, 'Milan': 3, 'London': 1, 'Madrid': 1}"
      ]
     },
     "execution_count": 19,
     "metadata": {},
     "output_type": "execute_result"
    }
   ],
   "source": [
    "# Degree for each nodes\n",
    "degree_for_nodes = {v: G.degree(v) for v in G.nodes}\n",
    "degree_for_nodes"
   ]
  },
  {
   "cell_type": "code",
   "execution_count": 20,
   "id": "7edfe54b",
   "metadata": {},
   "outputs": [
    {
     "data": {
      "text/plain": [
       "{'Dublin': ['Milan', 'Paris'],\n",
       " 'Paris': ['Milan', 'Dublin', 'Madrid'],\n",
       " 'Rome': ['Milan', 'London'],\n",
       " 'Milan': ['Dublin', 'Paris', 'Rome'],\n",
       " 'London': ['Rome'],\n",
       " 'Madrid': ['Paris']}"
      ]
     },
     "execution_count": 20,
     "metadata": {},
     "output_type": "execute_result"
    }
   ],
   "source": [
    "# Neighbors for each node\n",
    "neighbor_for_nodes = {v: list(G.neighbors(v)) for v in G.nodes}\n",
    "neighbor_for_nodes"
   ]
  },
  {
   "cell_type": "code",
   "execution_count": 21,
   "id": "dc6838c0",
   "metadata": {},
   "outputs": [],
   "source": [
    "node_remove = {'London', 'Madrid'}\n",
    "G.remove_nodes_from(node_remove)"
   ]
  },
  {
   "cell_type": "code",
   "execution_count": 22,
   "id": "972d925e",
   "metadata": {},
   "outputs": [
    {
     "data": {
      "text/plain": [
       "NodeView(('Dublin', 'Paris', 'Rome', 'Milan'))"
      ]
     },
     "execution_count": 22,
     "metadata": {},
     "output_type": "execute_result"
    }
   ],
   "source": [
    "G.nodes"
   ]
  },
  {
   "cell_type": "code",
   "execution_count": 23,
   "id": "028ad098",
   "metadata": {},
   "outputs": [
    {
     "data": {
      "text/plain": [
       "EdgeView([('Dublin', 'Milan'), ('Dublin', 'Paris'), ('Paris', 'Milan'), ('Rome', 'Milan')])"
      ]
     },
     "execution_count": 23,
     "metadata": {},
     "output_type": "execute_result"
    }
   ],
   "source": [
    "G.edges"
   ]
  },
  {
   "cell_type": "code",
   "execution_count": 24,
   "id": "99241fa7",
   "metadata": {},
   "outputs": [],
   "source": [
    "node_edges = [('Milan', 'Dublin'), ('Milan', 'Paris')]\n",
    "G.remove_edges_from(node_edges)"
   ]
  },
  {
   "cell_type": "code",
   "execution_count": 25,
   "id": "de11e143",
   "metadata": {},
   "outputs": [
    {
     "data": {
      "text/plain": [
       "NodeView(('Dublin', 'Paris', 'Rome', 'Milan'))"
      ]
     },
     "execution_count": 25,
     "metadata": {},
     "output_type": "execute_result"
    }
   ],
   "source": [
    "G.nodes"
   ]
  },
  {
   "cell_type": "code",
   "execution_count": 26,
   "id": "cc58c4d2",
   "metadata": {},
   "outputs": [
    {
     "data": {
      "text/plain": [
       "EdgeView([('Dublin', 'Paris'), ('Rome', 'Milan')])"
      ]
     },
     "execution_count": 26,
     "metadata": {},
     "output_type": "execute_result"
    }
   ],
   "source": [
    "G.edges"
   ]
  },
  {
   "cell_type": "markdown",
   "id": "4e6ed7bc",
   "metadata": {},
   "source": [
    "<img src=\"images/network_types.png\">"
   ]
  },
  {
   "cell_type": "code",
   "execution_count": 10,
   "id": "d64f3809",
   "metadata": {},
   "outputs": [],
   "source": [
    "import networkx as nx\n",
    "G = nx.DiGraph()\n",
    "V = {'Dublin', 'Paris', 'Milan', 'Rome'}\n",
    "E = [('Milan', 'Dublin'), ('Milan', 'Paris'),\n",
    "    ('Paris', 'Dublin'), ('Milan', 'Rome')]\n",
    "G.add_nodes_from(V)\n",
    "G.add_edges_from(E)"
   ]
  },
  {
   "cell_type": "code",
   "execution_count": 28,
   "id": "400846f6",
   "metadata": {},
   "outputs": [
    {
     "data": {
      "text/plain": [
       "{'Dublin': 2, 'Paris': 1, 'Rome': 1, 'Milan': 0}"
      ]
     },
     "execution_count": 28,
     "metadata": {},
     "output_type": "execute_result"
    }
   ],
   "source": [
    "indegree_for_nodes = {v : G.in_degree(v) for v in G.nodes}\n",
    "indegree_for_nodes"
   ]
  },
  {
   "cell_type": "code",
   "execution_count": 29,
   "id": "a0f5fa97",
   "metadata": {},
   "outputs": [
    {
     "data": {
      "text/plain": [
       "{'Dublin': 0, 'Paris': 1, 'Rome': 0, 'Milan': 3}"
      ]
     },
     "execution_count": 29,
     "metadata": {},
     "output_type": "execute_result"
    }
   ],
   "source": [
    "outdegree_for_nodes = {v : G.out_degree(v) for v in G.nodes}\n",
    "outdegree_for_nodes"
   ]
  },
  {
   "cell_type": "code",
   "execution_count": 12,
   "id": "952a52c1",
   "metadata": {},
   "outputs": [
    {
     "data": {
      "text/plain": [
       "[0, 0, 0, 0]"
      ]
     },
     "execution_count": 12,
     "metadata": {},
     "output_type": "execute_result"
    }
   ],
   "source": [
    "dir_mul_G = nx.MultiDiGraph()\n",
    "undir_mul_G = nx.MultiGraph()\n",
    "V = {'Dublin', 'Paris', 'Milan', 'Rome'}\n",
    "E = [('Milan', 'Dublin'), ('Milan', 'Paris'),\n",
    "    ('Paris', 'Dublin'), ('Milan', 'Rome')]\n",
    "dir_mul_G.add_nodes_from(V)\n",
    "dir_mul_G.add_edges_from(E)\n",
    "undir_mul_G.add_nodes_from(V)\n",
    "undir_mul_G.add_edges_from(E)"
   ]
  },
  {
   "cell_type": "code",
   "execution_count": 32,
   "id": "a89c673f",
   "metadata": {},
   "outputs": [],
   "source": [
    "import networkx as nx\n",
    "G = nx.DiGraph()\n",
    "V = {'Dublin', 'Paris', 'Milan', 'Rome'}\n",
    "E = [('Milan', 'Dublin', 19), ('Paris', 'Milan', 8),\n",
    "    ('Paris', 'Dublin', 11), ('Milan', 'Rome', 5)]\n",
    "G.add_nodes_from(V)\n",
    "G.add_weighted_edges_from(E)"
   ]
  },
  {
   "cell_type": "code",
   "execution_count": 1,
   "id": "2daad6d4",
   "metadata": {},
   "outputs": [],
   "source": [
    "import pandas as pd\n",
    "import numpy as np\n",
    "n_nodes=10\n",
    "n_edges=12\n",
    "left_nodes = [x for x in range(n_nodes) if x%2==0]\n",
    "right_nodes = [x for x in range(n_nodes) if x%2==1]"
   ]
  },
  {
   "cell_type": "code",
   "execution_count": 2,
   "id": "ab6657eb",
   "metadata": {},
   "outputs": [
    {
     "data": {
      "text/html": [
       "<div>\n",
       "<style scoped>\n",
       "    .dataframe tbody tr th:only-of-type {\n",
       "        vertical-align: middle;\n",
       "    }\n",
       "\n",
       "    .dataframe tbody tr th {\n",
       "        vertical-align: top;\n",
       "    }\n",
       "\n",
       "    .dataframe thead th {\n",
       "        text-align: right;\n",
       "    }\n",
       "</style>\n",
       "<table border=\"1\" class=\"dataframe\">\n",
       "  <thead>\n",
       "    <tr style=\"text-align: right;\">\n",
       "      <th></th>\n",
       "      <th>source</th>\n",
       "      <th>target</th>\n",
       "    </tr>\n",
       "  </thead>\n",
       "  <tbody>\n",
       "    <tr>\n",
       "      <th>0</th>\n",
       "      <td>8</td>\n",
       "      <td>3</td>\n",
       "    </tr>\n",
       "    <tr>\n",
       "      <th>1</th>\n",
       "      <td>2</td>\n",
       "      <td>5</td>\n",
       "    </tr>\n",
       "    <tr>\n",
       "      <th>2</th>\n",
       "      <td>4</td>\n",
       "      <td>3</td>\n",
       "    </tr>\n",
       "    <tr>\n",
       "      <th>3</th>\n",
       "      <td>4</td>\n",
       "      <td>9</td>\n",
       "    </tr>\n",
       "    <tr>\n",
       "      <th>4</th>\n",
       "      <td>2</td>\n",
       "      <td>1</td>\n",
       "    </tr>\n",
       "    <tr>\n",
       "      <th>5</th>\n",
       "      <td>2</td>\n",
       "      <td>7</td>\n",
       "    </tr>\n",
       "    <tr>\n",
       "      <th>6</th>\n",
       "      <td>2</td>\n",
       "      <td>9</td>\n",
       "    </tr>\n",
       "    <tr>\n",
       "      <th>7</th>\n",
       "      <td>2</td>\n",
       "      <td>7</td>\n",
       "    </tr>\n",
       "    <tr>\n",
       "      <th>8</th>\n",
       "      <td>2</td>\n",
       "      <td>5</td>\n",
       "    </tr>\n",
       "    <tr>\n",
       "      <th>9</th>\n",
       "      <td>0</td>\n",
       "      <td>7</td>\n",
       "    </tr>\n",
       "    <tr>\n",
       "      <th>10</th>\n",
       "      <td>8</td>\n",
       "      <td>7</td>\n",
       "    </tr>\n",
       "    <tr>\n",
       "      <th>11</th>\n",
       "      <td>8</td>\n",
       "      <td>3</td>\n",
       "    </tr>\n",
       "  </tbody>\n",
       "</table>\n",
       "</div>"
      ],
      "text/plain": [
       "    source  target\n",
       "0        8       3\n",
       "1        2       5\n",
       "2        4       3\n",
       "3        4       9\n",
       "4        2       1\n",
       "5        2       7\n",
       "6        2       9\n",
       "7        2       7\n",
       "8        2       5\n",
       "9        0       7\n",
       "10       8       7\n",
       "11       8       3"
      ]
     },
     "execution_count": 2,
     "metadata": {},
     "output_type": "execute_result"
    }
   ],
   "source": [
    "iter_edges = zip(\n",
    "  np.random.choice(left_nodes, n_edges),\n",
    "  np.random.choice(right_nodes, n_edges))\n",
    "\n",
    "edges = pd.DataFrame([{'source': a, 'target': b} for a,b in iter_edges])\n",
    "edges"
   ]
  },
  {
   "cell_type": "code",
   "execution_count": 7,
   "id": "e0cd82d4",
   "metadata": {},
   "outputs": [],
   "source": [
    "B = nx.Graph()\n",
    "B.add_nodes_from(left_nodes, bipartite=0)\n",
    "B.add_nodes_from(right_nodes, bipartite=1)\n",
    "B.add_edges_from([tuple(x) for x in edges.values])"
   ]
  },
  {
   "cell_type": "code",
   "execution_count": 4,
   "id": "2493f581",
   "metadata": {},
   "outputs": [
    {
     "name": "stdout",
     "output_type": "stream",
     "text": [
      "Requirement already satisfied: matplotlib in /Users/PSahai/miniconda3/lib/python3.8/site-packages (3.4.2)\n",
      "Requirement already satisfied: python-dateutil>=2.7 in /Users/PSahai/miniconda3/lib/python3.8/site-packages (from matplotlib) (2.8.2)\n",
      "Requirement already satisfied: kiwisolver>=1.0.1 in /Users/PSahai/miniconda3/lib/python3.8/site-packages (from matplotlib) (1.3.1)\n",
      "Requirement already satisfied: pillow>=6.2.0 in /Users/PSahai/miniconda3/lib/python3.8/site-packages (from matplotlib) (8.3.1)\n",
      "Requirement already satisfied: cycler>=0.10 in /Users/PSahai/miniconda3/lib/python3.8/site-packages (from matplotlib) (0.10.0)\n",
      "Requirement already satisfied: numpy>=1.16 in /Users/PSahai/miniconda3/lib/python3.8/site-packages (from matplotlib) (1.19.5)\n",
      "Requirement already satisfied: pyparsing>=2.2.1 in /Users/PSahai/miniconda3/lib/python3.8/site-packages (from matplotlib) (2.4.7)\n",
      "Requirement already satisfied: six>=1.5 in /Users/PSahai/miniconda3/lib/python3.8/site-packages (from python-dateutil>=2.7->matplotlib) (1.16.0)\n",
      "Note: you may need to restart the kernel to use updated packages.\n"
     ]
    }
   ],
   "source": [
    "#pip install matplotlib"
   ]
  },
  {
   "cell_type": "code",
   "execution_count": 8,
   "id": "f99d472e",
   "metadata": {},
   "outputs": [
    {
     "data": {
      "image/png": "[encoded data removed]",
      "text/plain": [
       "<Figure size 432x288 with 1 Axes>"
      ]
     },
     "metadata": {},
     "output_type": "display_data"
    }
   ],
   "source": [
    "#import matplotlib.pyplot as plt\n",
    "from networkx.drawing.layout import bipartite_layout\n",
    "pos = bipartite_layout(B, left_nodes)\n",
    "nx.draw_networkx(B, pos=pos)"
   ]
  },
  {
   "cell_type": "code",
   "execution_count": 11,
   "id": "112a711b",
   "metadata": {},
   "outputs": [
    {
     "data": {
      "text/html": [
       "<div>\n",
       "<style scoped>\n",
       "    .dataframe tbody tr th:only-of-type {\n",
       "        vertical-align: middle;\n",
       "    }\n",
       "\n",
       "    .dataframe tbody tr th {\n",
       "        vertical-align: top;\n",
       "    }\n",
       "\n",
       "    .dataframe thead th {\n",
       "        text-align: right;\n",
       "    }\n",
       "</style>\n",
       "<table border=\"1\" class=\"dataframe\">\n",
       "  <thead>\n",
       "    <tr style=\"text-align: right;\">\n",
       "      <th></th>\n",
       "      <th>Dublin</th>\n",
       "      <th>Rome</th>\n",
       "      <th>Paris</th>\n",
       "      <th>Milan</th>\n",
       "    </tr>\n",
       "  </thead>\n",
       "  <tbody>\n",
       "    <tr>\n",
       "      <th>Dublin</th>\n",
       "      <td>0.0</td>\n",
       "      <td>0.0</td>\n",
       "      <td>0.0</td>\n",
       "      <td>0.0</td>\n",
       "    </tr>\n",
       "    <tr>\n",
       "      <th>Rome</th>\n",
       "      <td>0.0</td>\n",
       "      <td>0.0</td>\n",
       "      <td>0.0</td>\n",
       "      <td>0.0</td>\n",
       "    </tr>\n",
       "    <tr>\n",
       "      <th>Paris</th>\n",
       "      <td>1.0</td>\n",
       "      <td>0.0</td>\n",
       "      <td>0.0</td>\n",
       "      <td>0.0</td>\n",
       "    </tr>\n",
       "    <tr>\n",
       "      <th>Milan</th>\n",
       "      <td>1.0</td>\n",
       "      <td>1.0</td>\n",
       "      <td>1.0</td>\n",
       "      <td>0.0</td>\n",
       "    </tr>\n",
       "  </tbody>\n",
       "</table>\n",
       "</div>"
      ],
      "text/plain": [
       "        Dublin  Rome  Paris  Milan\n",
       "Dublin     0.0   0.0    0.0    0.0\n",
       "Rome       0.0   0.0    0.0    0.0\n",
       "Paris      1.0   0.0    0.0    0.0\n",
       "Milan      1.0   1.0    1.0    0.0"
      ]
     },
     "execution_count": 11,
     "metadata": {},
     "output_type": "execute_result"
    }
   ],
   "source": [
    "nx.to_pandas_adjacency(G)"
   ]
  },
  {
   "cell_type": "code",
   "execution_count": 13,
   "id": "ecf13f25",
   "metadata": {},
   "outputs": [
    {
     "data": {
      "text/html": [
       "<div>\n",
       "<style scoped>\n",
       "    .dataframe tbody tr th:only-of-type {\n",
       "        vertical-align: middle;\n",
       "    }\n",
       "\n",
       "    .dataframe tbody tr th {\n",
       "        vertical-align: top;\n",
       "    }\n",
       "\n",
       "    .dataframe thead th {\n",
       "        text-align: right;\n",
       "    }\n",
       "</style>\n",
       "<table border=\"1\" class=\"dataframe\">\n",
       "  <thead>\n",
       "    <tr style=\"text-align: right;\">\n",
       "      <th></th>\n",
       "      <th>Dublin</th>\n",
       "      <th>Rome</th>\n",
       "      <th>Paris</th>\n",
       "      <th>Milan</th>\n",
       "    </tr>\n",
       "  </thead>\n",
       "  <tbody>\n",
       "    <tr>\n",
       "      <th>Dublin</th>\n",
       "      <td>0.0</td>\n",
       "      <td>0.0</td>\n",
       "      <td>0.0</td>\n",
       "      <td>0.0</td>\n",
       "    </tr>\n",
       "    <tr>\n",
       "      <th>Rome</th>\n",
       "      <td>0.0</td>\n",
       "      <td>0.0</td>\n",
       "      <td>0.0</td>\n",
       "      <td>0.0</td>\n",
       "    </tr>\n",
       "    <tr>\n",
       "      <th>Paris</th>\n",
       "      <td>1.0</td>\n",
       "      <td>0.0</td>\n",
       "      <td>0.0</td>\n",
       "      <td>0.0</td>\n",
       "    </tr>\n",
       "    <tr>\n",
       "      <th>Milan</th>\n",
       "      <td>1.0</td>\n",
       "      <td>1.0</td>\n",
       "      <td>1.0</td>\n",
       "      <td>0.0</td>\n",
       "    </tr>\n",
       "  </tbody>\n",
       "</table>\n",
       "</div>"
      ],
      "text/plain": [
       "        Dublin  Rome  Paris  Milan\n",
       "Dublin     0.0   0.0    0.0    0.0\n",
       "Rome       0.0   0.0    0.0    0.0\n",
       "Paris      1.0   0.0    0.0    0.0\n",
       "Milan      1.0   1.0    1.0    0.0"
      ]
     },
     "execution_count": 13,
     "metadata": {},
     "output_type": "execute_result"
    }
   ],
   "source": [
    "nx.to_pandas_adjacency(dir_mul_G)"
   ]
  },
  {
   "cell_type": "code",
   "execution_count": 14,
   "id": "8dfb365e",
   "metadata": {},
   "outputs": [
    {
     "data": {
      "text/html": [
       "<div>\n",
       "<style scoped>\n",
       "    .dataframe tbody tr th:only-of-type {\n",
       "        vertical-align: middle;\n",
       "    }\n",
       "\n",
       "    .dataframe tbody tr th {\n",
       "        vertical-align: top;\n",
       "    }\n",
       "\n",
       "    .dataframe thead th {\n",
       "        text-align: right;\n",
       "    }\n",
       "</style>\n",
       "<table border=\"1\" class=\"dataframe\">\n",
       "  <thead>\n",
       "    <tr style=\"text-align: right;\">\n",
       "      <th></th>\n",
       "      <th>Dublin</th>\n",
       "      <th>Rome</th>\n",
       "      <th>Paris</th>\n",
       "      <th>Milan</th>\n",
       "    </tr>\n",
       "  </thead>\n",
       "  <tbody>\n",
       "    <tr>\n",
       "      <th>Dublin</th>\n",
       "      <td>0.0</td>\n",
       "      <td>0.0</td>\n",
       "      <td>1.0</td>\n",
       "      <td>1.0</td>\n",
       "    </tr>\n",
       "    <tr>\n",
       "      <th>Rome</th>\n",
       "      <td>0.0</td>\n",
       "      <td>0.0</td>\n",
       "      <td>0.0</td>\n",
       "      <td>1.0</td>\n",
       "    </tr>\n",
       "    <tr>\n",
       "      <th>Paris</th>\n",
       "      <td>1.0</td>\n",
       "      <td>0.0</td>\n",
       "      <td>0.0</td>\n",
       "      <td>1.0</td>\n",
       "    </tr>\n",
       "    <tr>\n",
       "      <th>Milan</th>\n",
       "      <td>1.0</td>\n",
       "      <td>1.0</td>\n",
       "      <td>1.0</td>\n",
       "      <td>0.0</td>\n",
       "    </tr>\n",
       "  </tbody>\n",
       "</table>\n",
       "</div>"
      ],
      "text/plain": [
       "        Dublin  Rome  Paris  Milan\n",
       "Dublin     0.0   0.0    1.0    1.0\n",
       "Rome       0.0   0.0    0.0    1.0\n",
       "Paris      1.0   0.0    0.0    1.0\n",
       "Milan      1.0   1.0    1.0    0.0"
      ]
     },
     "execution_count": 14,
     "metadata": {},
     "output_type": "execute_result"
    }
   ],
   "source": [
    "nx.to_pandas_adjacency(undir_mul_G)"
   ]
  },
  {
   "cell_type": "code",
   "execution_count": 16,
   "id": "e742933d",
   "metadata": {},
   "outputs": [
    {
     "data": {
      "text/html": [
       "<div>\n",
       "<style scoped>\n",
       "    .dataframe tbody tr th:only-of-type {\n",
       "        vertical-align: middle;\n",
       "    }\n",
       "\n",
       "    .dataframe tbody tr th {\n",
       "        vertical-align: top;\n",
       "    }\n",
       "\n",
       "    .dataframe thead th {\n",
       "        text-align: right;\n",
       "    }\n",
       "</style>\n",
       "<table border=\"1\" class=\"dataframe\">\n",
       "  <thead>\n",
       "    <tr style=\"text-align: right;\">\n",
       "      <th></th>\n",
       "      <th>source</th>\n",
       "      <th>target</th>\n",
       "    </tr>\n",
       "  </thead>\n",
       "  <tbody>\n",
       "    <tr>\n",
       "      <th>0</th>\n",
       "      <td>Paris</td>\n",
       "      <td>Dublin</td>\n",
       "    </tr>\n",
       "    <tr>\n",
       "      <th>1</th>\n",
       "      <td>Milan</td>\n",
       "      <td>Dublin</td>\n",
       "    </tr>\n",
       "    <tr>\n",
       "      <th>2</th>\n",
       "      <td>Milan</td>\n",
       "      <td>Paris</td>\n",
       "    </tr>\n",
       "    <tr>\n",
       "      <th>3</th>\n",
       "      <td>Milan</td>\n",
       "      <td>Rome</td>\n",
       "    </tr>\n",
       "  </tbody>\n",
       "</table>\n",
       "</div>"
      ],
      "text/plain": [
       "  source  target\n",
       "0  Paris  Dublin\n",
       "1  Milan  Dublin\n",
       "2  Milan   Paris\n",
       "3  Milan    Rome"
      ]
     },
     "execution_count": 16,
     "metadata": {},
     "output_type": "execute_result"
    }
   ],
   "source": [
    "nx.to_pandas_edgelist(G)"
   ]
  },
  {
   "cell_type": "code",
   "execution_count": 20,
   "id": "6a35383f",
   "metadata": {},
   "outputs": [],
   "source": [
    "def draw_graph(G, nodes_position, plot_weight):\n",
    "    \n",
    "    nx.draw(G, nodes_position, with_labels=True,\n",
    "           font_size=15, node_size=400, edge_color='gray',\n",
    "           arrowsize=30)\n",
    "    \n",
    "    if plot_weight:\n",
    "        edge_labels=nx.get_edge_attributes(G, 'weight')\n",
    "        nx.draw_networkx_edge_labels(G, nodes_position, edge_labels=edge_labels)"
   ]
  },
  {
   "cell_type": "code",
   "execution_count": 21,
   "id": "41ad86f2",
   "metadata": {},
   "outputs": [],
   "source": [
    "import networkx as nx\n",
    "G = nx.DiGraph()\n",
    "V = {'Dublin', 'Paris', 'Milan', 'Rome'}\n",
    "E = [('Milan', 'Dublin', 19), ('Paris', 'Milan', 8),\n",
    "    ('Paris', 'Dublin', 11), ('Milan', 'Rome', 5)]\n",
    "G.add_nodes_from(V)\n",
    "G.add_weighted_edges_from(E)\n",
    "node_position = {'Paris':[0,0], 'Dublin':[0,1],\n",
    "                'Milan':[1,0], 'Rome':[1,1]}"
   ]
  },
  {
   "cell_type": "code",
   "execution_count": 22,
   "id": "bcffbb52",
   "metadata": {},
   "outputs": [
    {
     "data": {
      "image/png": "[encoded data removed]",
      "text/plain": [
       "<Figure size 432x288 with 1 Axes>"
      ]
     },
     "metadata": {},
     "output_type": "display_data"
    }
   ],
   "source": [
    "draw_graph(G, node_position, True)"
   ]
  },
  {
   "cell_type": "markdown",
   "id": "160a7bb9",
   "metadata": {},
   "source": [
    "<img src=\"images/graph_properties_1.jpg\">"
   ]
  },
  {
   "cell_type": "markdown",
   "id": "03ea9822",
   "metadata": {},
   "source": [
    "<img src=\"images/graph_properties_2.png\" width=\"650\"/>"
   ]
  },
  {
   "cell_type": "markdown",
   "id": "c96e460d",
   "metadata": {},
   "source": [
    "<img src=\"images/graph_properties_3.jpg\" width=\"700\"/>"
   ]
  },
  {
   "cell_type": "code",
   "execution_count": null,
   "id": "89d008ee",
   "metadata": {},
   "outputs": [],
   "source": []
  }
 ],
 "metadata": {
  "kernelspec": {
   "display_name": "Python 3",
   "language": "python",
   "name": "python3"
  },
  "language_info": {
   "codemirror_mode": {
    "name": "ipython",
    "version": 3
   },
   "file_extension": ".py",
   "mimetype": "text/x-python",
   "name": "python",
   "nbconvert_exporter": "python",
   "pygments_lexer": "ipython3",
   "version": "3.8.5"
  }
 },
 "nbformat": 4,
 "nbformat_minor": 5
}
