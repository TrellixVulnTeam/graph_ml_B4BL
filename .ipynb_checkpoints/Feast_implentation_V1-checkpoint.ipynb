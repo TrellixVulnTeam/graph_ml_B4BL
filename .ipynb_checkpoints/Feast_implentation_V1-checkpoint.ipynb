{
 "cells": [
  {
   "cell_type": "code",
   "execution_count": 1,
   "id": "0e485499-824d-4092-857d-f897d9f7f2c8",
   "metadata": {},
   "outputs": [
    {
     "name": "stdout",
     "output_type": "stream",
     "text": [
      "Collecting feast\n",
      "  Downloading feast-0.10.0-py3-none-any.whl (173 kB)\n",
      "\u001b[K     |████████████████████████████████| 173 kB 462 kB/s eta 0:00:01\n",
      "\u001b[?25hCollecting google-cloud-bigquery>=2.0.*\n",
      "  Downloading google_cloud_bigquery-2.13.1-py2.py3-none-any.whl (216 kB)\n",
      "\u001b[K     |████████████████████████████████| 216 kB 393 kB/s eta 0:00:01\n",
      "\u001b[?25hRequirement already satisfied: Jinja2>=2.0.0 in /Users/PSahai/miniconda3/lib/python3.8/site-packages (from feast) (2.11.3)\n",
      "Requirement already satisfied: tqdm==4.* in /Users/PSahai/miniconda3/lib/python3.8/site-packages (from feast) (4.51.0)\n",
      "Collecting colorama>=0.3.9\n",
      "  Downloading colorama-0.4.4-py2.py3-none-any.whl (16 kB)\n",
      "Collecting fastavro<0.23,>=0.22.11\n",
      "  Downloading fastavro-0.22.13-cp38-cp38-macosx_10_13_x86_64.whl (445 kB)\n",
      "\u001b[K     |████████████████████████████████| 445 kB 250 kB/s eta 0:00:01\n",
      "\u001b[?25hCollecting google-cloud-core==1.4.*\n",
      "  Downloading google_cloud_core-1.4.4-py2.py3-none-any.whl (27 kB)\n",
      "Requirement already satisfied: jsonschema in /Users/PSahai/miniconda3/lib/python3.8/site-packages (from feast) (3.2.0)\n",
      "Collecting PyYAML==5.3.*\n",
      "  Downloading PyYAML-5.3.1.tar.gz (269 kB)\n",
      "\u001b[K     |████████████████████████████████| 269 kB 157 kB/s eta 0:00:01\n",
      "\u001b[?25hCollecting grpcio==1.31.0\n",
      "  Downloading grpcio-1.31.0-cp38-cp38-macosx_10_9_x86_64.whl (3.0 MB)\n",
      "\u001b[K     |████████████████████████████████| 3.0 MB 465 kB/s eta 0:00:01\n",
      "\u001b[?25hCollecting pandavro==1.5.*\n",
      "  Downloading pandavro-1.5.2.tar.gz (3.8 kB)\n",
      "Collecting numpy<1.20.0\n",
      "  Downloading numpy-1.19.5-cp38-cp38-macosx_10_9_x86_64.whl (15.6 MB)\n",
      "\u001b[K     |████████████████████████████████| 15.6 MB 29 kB/s eta 0:00:016    |█▊                              | 839 kB 314 kB/s eta 0:00:47\n",
      "\u001b[?25hCollecting pydantic>=1.0.0\n",
      "  Downloading pydantic-1.8.1-cp38-cp38-macosx_10_9_x86_64.whl (2.6 MB)\n",
      "\u001b[K     |████████████████████████████████| 2.6 MB 522 kB/s eta 0:00:01\n",
      "\u001b[?25hCollecting pyarrow==2.0.0\n",
      "  Downloading pyarrow-2.0.0-cp38-cp38-macosx_10_13_x86_64.whl (13.4 MB)\n",
      "\u001b[K     |████████████████████████████████| 13.4 MB 279 kB/s eta 0:00:01     |█████████████████████████       | 10.5 MB 344 kB/s eta 0:00:09\n",
      "\u001b[?25hCollecting google-cloud-bigquery-storage>=2.0.0\n",
      "  Downloading google_cloud_bigquery_storage-2.4.0-py2.py3-none-any.whl (143 kB)\n",
      "\u001b[K     |████████████████████████████████| 143 kB 273 kB/s eta 0:00:01\n",
      "\u001b[?25hCollecting toml==0.10.*\n",
      "  Downloading toml-0.10.2-py2.py3-none-any.whl (16 kB)\n",
      "Collecting Click==7.*\n",
      "  Downloading click-7.1.2-py2.py3-none-any.whl (82 kB)\n",
      "\u001b[K     |████████████████████████████████| 82 kB 256 kB/s eta 0:00:01\n",
      "\u001b[?25hCollecting pandas~=1.0.0\n",
      "  Downloading pandas-1.0.5-cp38-cp38-macosx_10_9_x86_64.whl (10.2 MB)\n",
      "\u001b[K     |████████████████████████████████| 10.2 MB 909 kB/s eta 0:00:01\n",
      "\u001b[?25hCollecting googleapis-common-protos==1.52.*\n",
      "  Downloading googleapis_common_protos-1.52.0-py2.py3-none-any.whl (100 kB)\n",
      "\u001b[K     |████████████████████████████████| 100 kB 474 kB/s ta 0:00:01\n",
      "\u001b[?25hCollecting google-api-core>=1.23.0\n",
      "  Downloading google_api_core-1.26.3-py2.py3-none-any.whl (93 kB)\n",
      "\u001b[K     |████████████████████████████████| 93 kB 393 kB/s eta 0:00:01\n",
      "\u001b[?25hCollecting protobuf>=3.10\n",
      "  Downloading protobuf-3.15.8-cp38-cp38-macosx_10_9_x86_64.whl (1.0 MB)\n",
      "\u001b[K     |████████████████████████████████| 1.0 MB 466 kB/s eta 0:00:01\n",
      "\u001b[?25hCollecting mmh3\n",
      "  Downloading mmh3-3.0.0-cp38-cp38-macosx_10_9_x86_64.whl (12 kB)\n",
      "Collecting tabulate==0.8.*\n",
      "  Downloading tabulate-0.8.9-py3-none-any.whl (25 kB)\n",
      "Collecting google-cloud-storage>=1.20.*\n",
      "  Downloading google_cloud_storage-1.37.1-py2.py3-none-any.whl (103 kB)\n",
      "\u001b[K     |████████████████████████████████| 103 kB 339 kB/s eta 0:00:01\n",
      "\u001b[?25hCollecting proto-plus>=1.10.0\n",
      "  Downloading proto_plus-1.18.1-py3-none-any.whl (42 kB)\n",
      "\u001b[K     |████████████████████████████████| 42 kB 389 kB/s eta 0:00:01\n",
      "\u001b[?25hRequirement already satisfied: requests<3.0.0dev,>=2.18.0 in /Users/PSahai/miniconda3/lib/python3.8/site-packages (from google-cloud-bigquery>=2.0.*->feast) (2.24.0)\n",
      "Requirement already satisfied: packaging>=14.3 in /Users/PSahai/miniconda3/lib/python3.8/site-packages (from google-cloud-bigquery>=2.0.*->feast) (20.9)\n",
      "Collecting google-resumable-media<2.0dev,>=0.6.0\n",
      "  Downloading google_resumable_media-1.2.0-py2.py3-none-any.whl (75 kB)\n",
      "\u001b[K     |████████████████████████████████| 75 kB 437 kB/s eta 0:00:01\n",
      "\u001b[?25hRequirement already satisfied: MarkupSafe>=0.23 in /Users/PSahai/miniconda3/lib/python3.8/site-packages (from Jinja2>=2.0.0->feast) (1.1.1)\n",
      "Requirement already satisfied: pytz in /Users/PSahai/miniconda3/lib/python3.8/site-packages (from fastavro<0.23,>=0.22.11->feast) (2021.1)\n",
      "Requirement already satisfied: six>=1.12.0 in /Users/PSahai/miniconda3/lib/python3.8/site-packages (from google-cloud-core==1.4.*->feast) (1.15.0)\n",
      "Requirement already satisfied: setuptools in /Users/PSahai/miniconda3/lib/python3.8/site-packages (from jsonschema->feast) (50.3.1.post20201107)\n",
      "Requirement already satisfied: attrs>=17.4.0 in /Users/PSahai/miniconda3/lib/python3.8/site-packages (from jsonschema->feast) (20.3.0)\n",
      "Requirement already satisfied: pyrsistent>=0.14.0 in /Users/PSahai/miniconda3/lib/python3.8/site-packages (from jsonschema->feast) (0.17.3)\n",
      "Collecting typing-extensions>=3.7.4.3\n",
      "  Downloading typing_extensions-3.7.4.3-py3-none-any.whl (22 kB)\n",
      "Collecting libcst>=0.2.5\n",
      "  Downloading libcst-0.3.18-py3-none-any.whl (512 kB)\n",
      "\u001b[K     |████████████████████████████████| 512 kB 288 kB/s eta 0:00:01\n",
      "\u001b[?25hRequirement already satisfied: python-dateutil>=2.6.1 in /Users/PSahai/miniconda3/lib/python3.8/site-packages (from pandas~=1.0.0->feast) (2.8.1)\n",
      "Collecting google-auth<2.0dev,>=1.21.1\n",
      "  Downloading google_auth-1.29.0-py2.py3-none-any.whl (142 kB)\n",
      "\u001b[K     |████████████████████████████████| 142 kB 134 kB/s eta 0:00:01\n",
      "\u001b[?25hRequirement already satisfied: chardet<4,>=3.0.2 in /Users/PSahai/miniconda3/lib/python3.8/site-packages (from requests<3.0.0dev,>=2.18.0->google-cloud-bigquery>=2.0.*->feast) (3.0.4)\n",
      "Requirement already satisfied: certifi>=2017.4.17 in /Users/PSahai/miniconda3/lib/python3.8/site-packages (from requests<3.0.0dev,>=2.18.0->google-cloud-bigquery>=2.0.*->feast) (2020.12.5)\n",
      "Requirement already satisfied: idna<3,>=2.5 in /Users/PSahai/miniconda3/lib/python3.8/site-packages (from requests<3.0.0dev,>=2.18.0->google-cloud-bigquery>=2.0.*->feast) (2.10)\n",
      "Requirement already satisfied: urllib3!=1.25.0,!=1.25.1,<1.26,>=1.21.1 in /Users/PSahai/miniconda3/lib/python3.8/site-packages (from requests<3.0.0dev,>=2.18.0->google-cloud-bigquery>=2.0.*->feast) (1.25.11)\n",
      "Requirement already satisfied: pyparsing>=2.0.2 in /Users/PSahai/miniconda3/lib/python3.8/site-packages (from packaging>=14.3->google-cloud-bigquery>=2.0.*->feast) (2.4.7)\n",
      "Collecting google-crc32c<2.0dev,>=1.0; python_version >= \"3.5\"\n",
      "  Downloading google_crc32c-1.1.2-cp38-cp38-macosx_10_14_x86_64.whl (27 kB)\n",
      "Collecting typing-inspect>=0.4.0\n",
      "  Downloading typing_inspect-0.6.0-py3-none-any.whl (8.1 kB)\n",
      "Collecting pyasn1-modules>=0.2.1\n",
      "  Downloading pyasn1_modules-0.2.8-py2.py3-none-any.whl (155 kB)\n",
      "\u001b[K     |████████████████████████████████| 155 kB 279 kB/s eta 0:00:01\n",
      "\u001b[?25hCollecting cachetools<5.0,>=2.0.0\n",
      "  Downloading cachetools-4.2.1-py3-none-any.whl (12 kB)\n",
      "Collecting rsa<5,>=3.1.4; python_version >= \"3.6\"\n",
      "  Downloading rsa-4.7.2-py3-none-any.whl (34 kB)\n",
      "Requirement already satisfied: cffi>=1.0.0 in /Users/PSahai/miniconda3/lib/python3.8/site-packages (from google-crc32c<2.0dev,>=1.0; python_version >= \"3.5\"->google-resumable-media<2.0dev,>=0.6.0->google-cloud-bigquery>=2.0.*->feast) (1.14.3)\n",
      "Collecting mypy-extensions>=0.3.0\n",
      "  Downloading mypy_extensions-0.4.3-py2.py3-none-any.whl (4.5 kB)\n",
      "Collecting pyasn1<0.5.0,>=0.4.6\n",
      "  Downloading pyasn1-0.4.8-py2.py3-none-any.whl (77 kB)\n",
      "\u001b[K     |████████████████████████████████| 77 kB 310 kB/s eta 0:00:01\n",
      "\u001b[?25hRequirement already satisfied: pycparser in /Users/PSahai/miniconda3/lib/python3.8/site-packages (from cffi>=1.0.0->google-crc32c<2.0dev,>=1.0; python_version >= \"3.5\"->google-resumable-media<2.0dev,>=0.6.0->google-cloud-bigquery>=2.0.*->feast) (2.20)\n",
      "Building wheels for collected packages: PyYAML, pandavro\n",
      "  Building wheel for PyYAML (setup.py) ... \u001b[?25ldone\n",
      "\u001b[?25h  Created wheel for PyYAML: filename=PyYAML-5.3.1-cp38-cp38-macosx_10_9_x86_64.whl size=152799 sha256=6ce81945f0938c0ddfc38acdcd2e98342b9720bac6ddb5763458f6a48a53dde0\n",
      "  Stored in directory: /Users/PSahai/Library/Caches/pip/wheels/13/90/db/290ab3a34f2ef0b5a0f89235dc2d40fea83e77de84ed2dc05c\n",
      "  Building wheel for pandavro (setup.py) ... \u001b[?25ldone\n",
      "\u001b[?25h  Created wheel for pandavro: filename=pandavro-1.5.2-py3-none-any.whl size=2954 sha256=7aad578346db74a49d120dd5fb1b3155fa8a2f2e551ba680f9483d90c3761f6c\n",
      "  Stored in directory: /Users/PSahai/Library/Caches/pip/wheels/21/03/ef/f7f69842521378eb3fd932bd3e13341e0b2c1617c56abc4da5\n",
      "Successfully built PyYAML pandavro\n",
      "Installing collected packages: protobuf, proto-plus, googleapis-common-protos, pyasn1, pyasn1-modules, cachetools, rsa, google-auth, google-api-core, google-cloud-core, google-crc32c, google-resumable-media, google-cloud-bigquery, colorama, fastavro, PyYAML, grpcio, numpy, pandas, pandavro, typing-extensions, pydantic, pyarrow, mypy-extensions, typing-inspect, libcst, google-cloud-bigquery-storage, toml, Click, mmh3, tabulate, google-cloud-storage, feast\n",
      "  Attempting uninstall: PyYAML\n",
      "    Found existing installation: PyYAML 5.4.1\n",
      "    Uninstalling PyYAML-5.4.1:\n",
      "      Successfully uninstalled PyYAML-5.4.1\n",
      "Successfully installed Click-7.1.2 PyYAML-5.3.1 cachetools-4.2.1 colorama-0.4.4 fastavro-0.22.13 feast-0.10.0 google-api-core-1.26.3 google-auth-1.29.0 google-cloud-bigquery-2.13.1 google-cloud-bigquery-storage-2.4.0 google-cloud-core-1.4.4 google-cloud-storage-1.37.1 google-crc32c-1.1.2 google-resumable-media-1.2.0 googleapis-common-protos-1.52.0 grpcio-1.31.0 libcst-0.3.18 mmh3-3.0.0 mypy-extensions-0.4.3 numpy-1.19.5 pandas-1.0.5 pandavro-1.5.2 proto-plus-1.18.1 protobuf-3.15.8 pyarrow-2.0.0 pyasn1-0.4.8 pyasn1-modules-0.2.8 pydantic-1.8.1 rsa-4.7.2 tabulate-0.8.9 toml-0.10.2 typing-extensions-3.7.4.3 typing-inspect-0.6.0\n",
      "Note: you may need to restart the kernel to use updated packages.\n"
     ]
    }
   ],
   "source": [
    "pip install feast"
   ]
  },
  {
   "cell_type": "code",
   "execution_count": 6,
   "id": "d056ebe1-46d0-4040-92f7-95eacd3cc149",
   "metadata": {},
   "outputs": [],
   "source": [
    "from datetime import datetime, timedelta\n",
    "\n",
    "import pandas as pd\n",
    "from demostore.example import transaction, transaction_stats_fv\n",
    "\n",
    "from feast import FeatureStore, RepoConfig\n",
    "import pytz"
   ]
  },
  {
   "cell_type": "code",
   "execution_count": 7,
   "id": "577bd70a-86e8-430b-a9bb-aeeb12c041ce",
   "metadata": {},
   "outputs": [
    {
     "name": "stdout",
     "output_type": "stream",
     "text": [
      "Feast is an open source project that collects anonymized usage statistics. To opt out or learn more see https://docs.feast.dev/v/master/feast-on-kubernetes/advanced-1/telemetry\n"
     ]
    }
   ],
   "source": [
    "fs = FeatureStore(repo_path=\"./demostore\")"
   ]
  },
  {
   "cell_type": "code",
   "execution_count": 8,
   "id": "120e005a-416c-472b-b2a0-4ca06ed97596",
   "metadata": {},
   "outputs": [],
   "source": [
    "fs.apply([transaction, transaction_stats_fv])"
   ]
  },
  {
   "cell_type": "code",
   "execution_count": 9,
   "id": "188b1e04-acfe-4d69-b8df-93917cb39434",
   "metadata": {},
   "outputs": [
    {
     "data": {
      "text/html": [
       "<div>\n",
       "<style scoped>\n",
       "    .dataframe tbody tr th:only-of-type {\n",
       "        vertical-align: middle;\n",
       "    }\n",
       "\n",
       "    .dataframe tbody tr th {\n",
       "        vertical-align: top;\n",
       "    }\n",
       "\n",
       "    .dataframe thead th {\n",
       "        text-align: right;\n",
       "    }\n",
       "</style>\n",
       "<table border=\"1\" class=\"dataframe\">\n",
       "  <thead>\n",
       "    <tr style=\"text-align: right;\">\n",
       "      <th></th>\n",
       "      <th>CustomerID</th>\n",
       "      <th>price_sum</th>\n",
       "      <th>event_timestamp</th>\n",
       "      <th>created_timestamp</th>\n",
       "    </tr>\n",
       "  </thead>\n",
       "  <tbody>\n",
       "    <tr>\n",
       "      <th>0</th>\n",
       "      <td>12346</td>\n",
       "      <td>-1</td>\n",
       "      <td>2010-06-30 11:22:00</td>\n",
       "      <td>2010-06-30 11:22:00</td>\n",
       "    </tr>\n",
       "    <tr>\n",
       "      <th>1</th>\n",
       "      <td>12349</td>\n",
       "      <td>60</td>\n",
       "      <td>2010-10-28 08:23:00</td>\n",
       "      <td>2010-10-28 08:23:00</td>\n",
       "    </tr>\n",
       "    <tr>\n",
       "      <th>2</th>\n",
       "      <td>12351</td>\n",
       "      <td>6</td>\n",
       "      <td>2010-11-29 15:23:00</td>\n",
       "      <td>2010-11-29 15:23:00</td>\n",
       "    </tr>\n",
       "    <tr>\n",
       "      <th>3</th>\n",
       "      <td>12355</td>\n",
       "      <td>35</td>\n",
       "      <td>2010-05-21 11:59:00</td>\n",
       "      <td>2010-05-21 11:59:00</td>\n",
       "    </tr>\n",
       "    <tr>\n",
       "      <th>4</th>\n",
       "      <td>12356</td>\n",
       "      <td>84</td>\n",
       "      <td>2010-10-11 09:42:00</td>\n",
       "      <td>2010-10-11 09:42:00</td>\n",
       "    </tr>\n",
       "  </tbody>\n",
       "</table>\n",
       "</div>"
      ],
      "text/plain": [
       "   CustomerID  price_sum      event_timestamp    created_timestamp\n",
       "0       12346         -1  2010-06-30 11:22:00  2010-06-30 11:22:00\n",
       "1       12349         60  2010-10-28 08:23:00  2010-10-28 08:23:00\n",
       "2       12351          6  2010-11-29 15:23:00  2010-11-29 15:23:00\n",
       "3       12355         35  2010-05-21 11:59:00  2010-05-21 11:59:00\n",
       "4       12356         84  2010-10-11 09:42:00  2010-10-11 09:42:00"
      ]
     },
     "execution_count": 9,
     "metadata": {},
     "output_type": "execute_result"
    }
   ],
   "source": [
    "link = 'https://raw.githubusercontent.com/srivatsan88/YouTubeLI/master/feast/transaction_items.csv'\n",
    "df=pd.read_csv(link)\n",
    "df.head()"
   ]
  },
  {
   "cell_type": "code",
   "execution_count": 15,
   "id": "5a2dfb17-1a8d-4a9b-921c-a456eb02c607",
   "metadata": {},
   "outputs": [],
   "source": [
    "df['event_timestamp']=pd.to_datetime(df['event_timestamp'],format='%Y-%m-%d %H:%M:%S')\n",
    "df['created_timestamp']=pd.to_datetime(df['created_timestamp'],format='%Y-%m-%d %H:%M:%S')"
   ]
  },
  {
   "cell_type": "code",
   "execution_count": 17,
   "id": "19752660-d34d-4b0c-a5b7-9ff7b35dd942",
   "metadata": {},
   "outputs": [
    {
     "ename": "KeyError",
     "evalue": "'CustomerID'",
     "output_type": "error",
     "traceback": [
      "\u001b[0;31m---------------------------------------------------------------------------\u001b[0m",
      "\u001b[0;31mKeyError\u001b[0m                                  Traceback (most recent call last)",
      "\u001b[0;32m<ipython-input-17-88b9217dcf07>\u001b[0m in \u001b[0;36m<module>\u001b[0;34m\u001b[0m\n\u001b[0;32m----> 1\u001b[0;31m training_df = fs.get_historical_features(\n\u001b[0m\u001b[1;32m      2\u001b[0m    feature_refs=[\n\u001b[1;32m      3\u001b[0m        \u001b[0;34m\"transaction:price_sum\"\u001b[0m\u001b[0;34m,\u001b[0m\u001b[0;34m\u001b[0m\u001b[0;34m\u001b[0m\u001b[0m\n\u001b[1;32m      4\u001b[0m        \u001b[0;34m\"transaction:total_count\"\u001b[0m\u001b[0;34m,\u001b[0m\u001b[0;34m\u001b[0m\u001b[0;34m\u001b[0m\u001b[0m\n\u001b[1;32m      5\u001b[0m        \u001b[0;34m\"transaction:Country\"\u001b[0m\u001b[0;34m\u001b[0m\u001b[0;34m\u001b[0m\u001b[0m\n",
      "\u001b[0;32m~/miniconda3/lib/python3.8/site-packages/feast/infra/offline_stores/file.py\u001b[0m in \u001b[0;36mto_df\u001b[0;34m(self)\u001b[0m\n\u001b[1;32m     27\u001b[0m     \u001b[0;32mdef\u001b[0m \u001b[0mto_df\u001b[0m\u001b[0;34m(\u001b[0m\u001b[0mself\u001b[0m\u001b[0;34m)\u001b[0m\u001b[0;34m:\u001b[0m\u001b[0;34m\u001b[0m\u001b[0;34m\u001b[0m\u001b[0m\n\u001b[1;32m     28\u001b[0m         \u001b[0;31m# Only execute the evaluation function to build the final historical retrieval dataframe at the last moment.\u001b[0m\u001b[0;34m\u001b[0m\u001b[0;34m\u001b[0m\u001b[0;34m\u001b[0m\u001b[0m\n\u001b[0;32m---> 29\u001b[0;31m         \u001b[0mdf\u001b[0m \u001b[0;34m=\u001b[0m \u001b[0mself\u001b[0m\u001b[0;34m.\u001b[0m\u001b[0mevaluation_function\u001b[0m\u001b[0;34m(\u001b[0m\u001b[0;34m)\u001b[0m\u001b[0;34m\u001b[0m\u001b[0;34m\u001b[0m\u001b[0m\n\u001b[0m\u001b[1;32m     30\u001b[0m         \u001b[0;32mreturn\u001b[0m \u001b[0mdf\u001b[0m\u001b[0;34m\u001b[0m\u001b[0;34m\u001b[0m\u001b[0m\n\u001b[1;32m     31\u001b[0m \u001b[0;34m\u001b[0m\u001b[0m\n",
      "\u001b[0;32m~/miniconda3/lib/python3.8/site-packages/feast/infra/offline_stores/file.py\u001b[0m in \u001b[0;36mevaluate_historical_retrieval\u001b[0;34m()\u001b[0m\n\u001b[1;32m    133\u001b[0m                     ]\n\u001b[1;32m    134\u001b[0m \u001b[0;34m\u001b[0m\u001b[0m\n\u001b[0;32m--> 135\u001b[0;31m                 \u001b[0mdf_to_join\u001b[0m\u001b[0;34m.\u001b[0m\u001b[0msort_values\u001b[0m\u001b[0;34m(\u001b[0m\u001b[0mby\u001b[0m\u001b[0;34m=\u001b[0m\u001b[0mright_entity_key_sort_columns\u001b[0m\u001b[0;34m,\u001b[0m \u001b[0minplace\u001b[0m\u001b[0;34m=\u001b[0m\u001b[0;32mTrue\u001b[0m\u001b[0;34m)\u001b[0m\u001b[0;34m\u001b[0m\u001b[0;34m\u001b[0m\u001b[0m\n\u001b[0m\u001b[1;32m    136\u001b[0m                 \u001b[0mdf_to_join\u001b[0m \u001b[0;34m=\u001b[0m \u001b[0mdf_to_join\u001b[0m\u001b[0;34m.\u001b[0m\u001b[0mgroupby\u001b[0m\u001b[0;34m(\u001b[0m\u001b[0mby\u001b[0m\u001b[0;34m=\u001b[0m\u001b[0mright_entity_key_columns\u001b[0m\u001b[0;34m)\u001b[0m\u001b[0;34m.\u001b[0m\u001b[0mlast\u001b[0m\u001b[0;34m(\u001b[0m\u001b[0;34m)\u001b[0m\u001b[0;34m\u001b[0m\u001b[0;34m\u001b[0m\u001b[0m\n\u001b[1;32m    137\u001b[0m                 \u001b[0mdf_to_join\u001b[0m\u001b[0;34m.\u001b[0m\u001b[0mreset_index\u001b[0m\u001b[0;34m(\u001b[0m\u001b[0minplace\u001b[0m\u001b[0;34m=\u001b[0m\u001b[0;32mTrue\u001b[0m\u001b[0;34m)\u001b[0m\u001b[0;34m\u001b[0m\u001b[0;34m\u001b[0m\u001b[0m\n",
      "\u001b[0;32m~/miniconda3/lib/python3.8/site-packages/pandas/core/frame.py\u001b[0m in \u001b[0;36msort_values\u001b[0;34m(self, by, axis, ascending, inplace, kind, na_position, ignore_index)\u001b[0m\n\u001b[1;32m   4918\u001b[0m             \u001b[0;32mfrom\u001b[0m \u001b[0mpandas\u001b[0m\u001b[0;34m.\u001b[0m\u001b[0mcore\u001b[0m\u001b[0;34m.\u001b[0m\u001b[0msorting\u001b[0m \u001b[0;32mimport\u001b[0m \u001b[0mlexsort_indexer\u001b[0m\u001b[0;34m\u001b[0m\u001b[0;34m\u001b[0m\u001b[0m\n\u001b[1;32m   4919\u001b[0m \u001b[0;34m\u001b[0m\u001b[0m\n\u001b[0;32m-> 4920\u001b[0;31m             \u001b[0mkeys\u001b[0m \u001b[0;34m=\u001b[0m \u001b[0;34m[\u001b[0m\u001b[0mself\u001b[0m\u001b[0;34m.\u001b[0m\u001b[0m_get_label_or_level_values\u001b[0m\u001b[0;34m(\u001b[0m\u001b[0mx\u001b[0m\u001b[0;34m,\u001b[0m \u001b[0maxis\u001b[0m\u001b[0;34m=\u001b[0m\u001b[0maxis\u001b[0m\u001b[0;34m)\u001b[0m \u001b[0;32mfor\u001b[0m \u001b[0mx\u001b[0m \u001b[0;32min\u001b[0m \u001b[0mby\u001b[0m\u001b[0;34m]\u001b[0m\u001b[0;34m\u001b[0m\u001b[0;34m\u001b[0m\u001b[0m\n\u001b[0m\u001b[1;32m   4921\u001b[0m             \u001b[0mindexer\u001b[0m \u001b[0;34m=\u001b[0m \u001b[0mlexsort_indexer\u001b[0m\u001b[0;34m(\u001b[0m\u001b[0mkeys\u001b[0m\u001b[0;34m,\u001b[0m \u001b[0morders\u001b[0m\u001b[0;34m=\u001b[0m\u001b[0mascending\u001b[0m\u001b[0;34m,\u001b[0m \u001b[0mna_position\u001b[0m\u001b[0;34m=\u001b[0m\u001b[0mna_position\u001b[0m\u001b[0;34m)\u001b[0m\u001b[0;34m\u001b[0m\u001b[0;34m\u001b[0m\u001b[0m\n\u001b[1;32m   4922\u001b[0m             \u001b[0mindexer\u001b[0m \u001b[0;34m=\u001b[0m \u001b[0mensure_platform_int\u001b[0m\u001b[0;34m(\u001b[0m\u001b[0mindexer\u001b[0m\u001b[0;34m)\u001b[0m\u001b[0;34m\u001b[0m\u001b[0;34m\u001b[0m\u001b[0m\n",
      "\u001b[0;32m~/miniconda3/lib/python3.8/site-packages/pandas/core/frame.py\u001b[0m in \u001b[0;36m<listcomp>\u001b[0;34m(.0)\u001b[0m\n\u001b[1;32m   4918\u001b[0m             \u001b[0;32mfrom\u001b[0m \u001b[0mpandas\u001b[0m\u001b[0;34m.\u001b[0m\u001b[0mcore\u001b[0m\u001b[0;34m.\u001b[0m\u001b[0msorting\u001b[0m \u001b[0;32mimport\u001b[0m \u001b[0mlexsort_indexer\u001b[0m\u001b[0;34m\u001b[0m\u001b[0;34m\u001b[0m\u001b[0m\n\u001b[1;32m   4919\u001b[0m \u001b[0;34m\u001b[0m\u001b[0m\n\u001b[0;32m-> 4920\u001b[0;31m             \u001b[0mkeys\u001b[0m \u001b[0;34m=\u001b[0m \u001b[0;34m[\u001b[0m\u001b[0mself\u001b[0m\u001b[0;34m.\u001b[0m\u001b[0m_get_label_or_level_values\u001b[0m\u001b[0;34m(\u001b[0m\u001b[0mx\u001b[0m\u001b[0;34m,\u001b[0m \u001b[0maxis\u001b[0m\u001b[0;34m=\u001b[0m\u001b[0maxis\u001b[0m\u001b[0;34m)\u001b[0m \u001b[0;32mfor\u001b[0m \u001b[0mx\u001b[0m \u001b[0;32min\u001b[0m \u001b[0mby\u001b[0m\u001b[0;34m]\u001b[0m\u001b[0;34m\u001b[0m\u001b[0;34m\u001b[0m\u001b[0m\n\u001b[0m\u001b[1;32m   4921\u001b[0m             \u001b[0mindexer\u001b[0m \u001b[0;34m=\u001b[0m \u001b[0mlexsort_indexer\u001b[0m\u001b[0;34m(\u001b[0m\u001b[0mkeys\u001b[0m\u001b[0;34m,\u001b[0m \u001b[0morders\u001b[0m\u001b[0;34m=\u001b[0m\u001b[0mascending\u001b[0m\u001b[0;34m,\u001b[0m \u001b[0mna_position\u001b[0m\u001b[0;34m=\u001b[0m\u001b[0mna_position\u001b[0m\u001b[0;34m)\u001b[0m\u001b[0;34m\u001b[0m\u001b[0;34m\u001b[0m\u001b[0m\n\u001b[1;32m   4922\u001b[0m             \u001b[0mindexer\u001b[0m \u001b[0;34m=\u001b[0m \u001b[0mensure_platform_int\u001b[0m\u001b[0;34m(\u001b[0m\u001b[0mindexer\u001b[0m\u001b[0;34m)\u001b[0m\u001b[0;34m\u001b[0m\u001b[0;34m\u001b[0m\u001b[0m\n",
      "\u001b[0;32m~/miniconda3/lib/python3.8/site-packages/pandas/core/generic.py\u001b[0m in \u001b[0;36m_get_label_or_level_values\u001b[0;34m(self, key, axis)\u001b[0m\n\u001b[1;32m   1690\u001b[0m             \u001b[0mvalues\u001b[0m \u001b[0;34m=\u001b[0m \u001b[0mself\u001b[0m\u001b[0;34m.\u001b[0m\u001b[0maxes\u001b[0m\u001b[0;34m[\u001b[0m\u001b[0maxis\u001b[0m\u001b[0;34m]\u001b[0m\u001b[0;34m.\u001b[0m\u001b[0mget_level_values\u001b[0m\u001b[0;34m(\u001b[0m\u001b[0mkey\u001b[0m\u001b[0;34m)\u001b[0m\u001b[0;34m.\u001b[0m\u001b[0m_values\u001b[0m\u001b[0;34m\u001b[0m\u001b[0;34m\u001b[0m\u001b[0m\n\u001b[1;32m   1691\u001b[0m         \u001b[0;32melse\u001b[0m\u001b[0;34m:\u001b[0m\u001b[0;34m\u001b[0m\u001b[0;34m\u001b[0m\u001b[0m\n\u001b[0;32m-> 1692\u001b[0;31m             \u001b[0;32mraise\u001b[0m \u001b[0mKeyError\u001b[0m\u001b[0;34m(\u001b[0m\u001b[0mkey\u001b[0m\u001b[0;34m)\u001b[0m\u001b[0;34m\u001b[0m\u001b[0;34m\u001b[0m\u001b[0m\n\u001b[0m\u001b[1;32m   1693\u001b[0m \u001b[0;34m\u001b[0m\u001b[0m\n\u001b[1;32m   1694\u001b[0m         \u001b[0;31m# Check for duplicates\u001b[0m\u001b[0;34m\u001b[0m\u001b[0;34m\u001b[0m\u001b[0;34m\u001b[0m\u001b[0m\n",
      "\u001b[0;31mKeyError\u001b[0m: 'CustomerID'"
     ]
    }
   ],
   "source": [
    "training_df = fs.get_historical_features(\n",
    "   feature_refs=[\n",
    "       \"transaction:price_sum\",\n",
    "       \"transaction:total_count\",\n",
    "       \"transaction:Country\"\n",
    "    ],\n",
    "   entity_df=df\n",
    ").to_df()"
   ]
  },
  {
   "cell_type": "code",
   "execution_count": 18,
   "id": "92725474-be82-48ff-8fdd-7cc881c50480",
   "metadata": {},
   "outputs": [
    {
     "data": {
      "text/html": [
       "<div>\n",
       "<style scoped>\n",
       "    .dataframe tbody tr th:only-of-type {\n",
       "        vertical-align: middle;\n",
       "    }\n",
       "\n",
       "    .dataframe tbody tr th {\n",
       "        vertical-align: top;\n",
       "    }\n",
       "\n",
       "    .dataframe thead th {\n",
       "        text-align: right;\n",
       "    }\n",
       "</style>\n",
       "<table border=\"1\" class=\"dataframe\">\n",
       "  <thead>\n",
       "    <tr style=\"text-align: right;\">\n",
       "      <th></th>\n",
       "      <th>CustomerID</th>\n",
       "      <th>price_sum</th>\n",
       "      <th>event_timestamp</th>\n",
       "      <th>created_timestamp</th>\n",
       "    </tr>\n",
       "  </thead>\n",
       "  <tbody>\n",
       "    <tr>\n",
       "      <th>0</th>\n",
       "      <td>12346</td>\n",
       "      <td>-1</td>\n",
       "      <td>2010-06-30 11:22:00+00:00</td>\n",
       "      <td>2010-06-30 11:22:00</td>\n",
       "    </tr>\n",
       "    <tr>\n",
       "      <th>1</th>\n",
       "      <td>12349</td>\n",
       "      <td>60</td>\n",
       "      <td>2010-10-28 08:23:00+00:00</td>\n",
       "      <td>2010-10-28 08:23:00</td>\n",
       "    </tr>\n",
       "    <tr>\n",
       "      <th>2</th>\n",
       "      <td>12351</td>\n",
       "      <td>6</td>\n",
       "      <td>2010-11-29 15:23:00+00:00</td>\n",
       "      <td>2010-11-29 15:23:00</td>\n",
       "    </tr>\n",
       "    <tr>\n",
       "      <th>3</th>\n",
       "      <td>12355</td>\n",
       "      <td>35</td>\n",
       "      <td>2010-05-21 11:59:00+00:00</td>\n",
       "      <td>2010-05-21 11:59:00</td>\n",
       "    </tr>\n",
       "    <tr>\n",
       "      <th>4</th>\n",
       "      <td>12356</td>\n",
       "      <td>84</td>\n",
       "      <td>2010-10-11 09:42:00+00:00</td>\n",
       "      <td>2010-10-11 09:42:00</td>\n",
       "    </tr>\n",
       "  </tbody>\n",
       "</table>\n",
       "</div>"
      ],
      "text/plain": [
       "   CustomerID  price_sum           event_timestamp   created_timestamp\n",
       "0       12346         -1 2010-06-30 11:22:00+00:00 2010-06-30 11:22:00\n",
       "1       12349         60 2010-10-28 08:23:00+00:00 2010-10-28 08:23:00\n",
       "2       12351          6 2010-11-29 15:23:00+00:00 2010-11-29 15:23:00\n",
       "3       12355         35 2010-05-21 11:59:00+00:00 2010-05-21 11:59:00\n",
       "4       12356         84 2010-10-11 09:42:00+00:00 2010-10-11 09:42:00"
      ]
     },
     "execution_count": 18,
     "metadata": {},
     "output_type": "execute_result"
    }
   ],
   "source": [
    "df.head()"
   ]
  },
  {
   "cell_type": "code",
   "execution_count": 10,
   "id": "0dbd0639-36dd-480c-ad8e-1e335be3e268",
   "metadata": {},
   "outputs": [
    {
     "name": "stderr",
     "output_type": "stream",
     "text": [
      "/Users/PSahai/miniconda3/lib/python3.8/site-packages/ipykernel/ipkernel.py:283: DeprecationWarning: `should_run_async` will not call `transform_cell` automatically in the future. Please pass the result to `transformed_cell` argument and any exception that happen during thetransform in `preprocessing_exc_tuple` in IPython 7.17 and above.\n",
      "  and should_run_async(code)\n"
     ]
    },
    {
     "data": {
      "text/plain": [
       "[<FeatureView(name = transaction, entities = ['CustomerID'], features = [<feast.feature.Feature object at 0x7fcc89cc4fd0>, <feast.feature.Feature object at 0x7fcc89cc4e20>, <feast.feature.Feature object at 0x7fcc89cc4e50>], tags = {'team': 'transaction'}, ttl = 7000 days, 0:00:00, online = True, input = <feast.data_source.FileSource object at 0x7fcc89cc4f10>, materialization_intervals = [], created_timestamp = )>]"
      ]
     },
     "execution_count": 10,
     "metadata": {},
     "output_type": "execute_result"
    }
   ],
   "source": [
    "fs.list_feature_views()"
   ]
  },
  {
   "cell_type": "code",
   "execution_count": 14,
   "id": "214017da-c727-4e46-b0bb-f9c0ee373995",
   "metadata": {},
   "outputs": [
    {
     "ename": "AttributeError",
     "evalue": "'FeatureStore' object has no attribute 'get_features'",
     "output_type": "error",
     "traceback": [
      "\u001b[0;31m---------------------------------------------------------------------------\u001b[0m",
      "\u001b[0;31mAttributeError\u001b[0m                            Traceback (most recent call last)",
      "\u001b[0;32m<ipython-input-14-d869bd16ac91>\u001b[0m in \u001b[0;36m<module>\u001b[0;34m\u001b[0m\n\u001b[0;32m----> 1\u001b[0;31m online_features = fs.get_features(\n\u001b[0m\u001b[1;32m      2\u001b[0m    feature_refs=[\n\u001b[1;32m      3\u001b[0m        \u001b[0;34m\"transaction:price_sum\"\u001b[0m\u001b[0;34m,\u001b[0m\u001b[0;34m\u001b[0m\u001b[0;34m\u001b[0m\u001b[0m\n\u001b[1;32m      4\u001b[0m        \u001b[0;34m\"transaction:total_count\"\u001b[0m\u001b[0;34m,\u001b[0m\u001b[0;34m\u001b[0m\u001b[0;34m\u001b[0m\u001b[0m\n\u001b[1;32m      5\u001b[0m        \u001b[0;34m\"transaction:Country\"\u001b[0m\u001b[0;34m\u001b[0m\u001b[0;34m\u001b[0m\u001b[0m\n",
      "\u001b[0;31mAttributeError\u001b[0m: 'FeatureStore' object has no attribute 'get_features'"
     ]
    }
   ],
   "source": [
    "online_features = fs.get_online_features(\n",
    "   feature_refs=[\n",
    "       \"transaction:price_sum\",\n",
    "       \"transaction:total_count\",\n",
    "       \"transaction:Country\"\n",
    "    ],\n",
    "   entity_rows=[{\"CustomerID\": 12346}, {\"CustomerID\": 12419}],\n",
    ").to_dict()"
   ]
  },
  {
   "cell_type": "code",
   "execution_count": 12,
   "id": "4a413b0f-c92a-446b-943e-2a79de5cf5ff",
   "metadata": {},
   "outputs": [
    {
     "data": {
      "text/plain": [
       "{'transaction__total_count': [None, None],\n",
       " 'transaction__Country': [None, None],\n",
       " 'transaction__price_sum': [None, None],\n",
       " 'CustomerID': [12346, 12419]}"
      ]
     },
     "execution_count": 12,
     "metadata": {},
     "output_type": "execute_result"
    }
   ],
   "source": [
    "online_features"
   ]
  },
  {
   "cell_type": "code",
   "execution_count": null,
   "id": "4f7c1eba-30d3-4490-99f5-bd16b6f14f30",
   "metadata": {},
   "outputs": [],
   "source": []
  }
 ],
 "metadata": {
  "kernelspec": {
   "display_name": "Python 3",
   "language": "python",
   "name": "python3"
  },
  "language_info": {
   "codemirror_mode": {
    "name": "ipython",
    "version": 3
   },
   "file_extension": ".py",
   "mimetype": "text/x-python",
   "name": "python",
   "nbconvert_exporter": "python",
   "pygments_lexer": "ipython3",
   "version": "3.8.5"
  }
 },
 "nbformat": 4,
 "nbformat_minor": 5
}
